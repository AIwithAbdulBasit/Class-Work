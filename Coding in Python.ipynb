{
 "cells": [
  {
   "cell_type": "markdown",
   "id": "5a32b1d9",
   "metadata": {},
   "source": [
    "# PRINT"
   ]
  },
  {
   "cell_type": "code",
   "execution_count": 1,
   "id": "11615b6c",
   "metadata": {},
   "outputs": [
    {
     "name": "stdout",
     "output_type": "stream",
     "text": [
      "Hello, World!\n"
     ]
    }
   ],
   "source": [
    "print(\"Hello, World!\")"
   ]
  },
  {
   "cell_type": "code",
   "execution_count": 2,
   "id": "0d2c5d6f",
   "metadata": {},
   "outputs": [
    {
     "name": "stdout",
     "output_type": "stream",
     "text": [
      "Hello, World!\n"
     ]
    }
   ],
   "source": [
    "print( \"Hello, World!\" )"
   ]
  },
  {
   "cell_type": "code",
   "execution_count": 9,
   "id": "327f86cd",
   "metadata": {},
   "outputs": [
    {
     "name": "stdout",
     "output_type": "stream",
     "text": [
      "Hello, World!\n"
     ]
    }
   ],
   "source": [
    "print('Hello, World!')"
   ]
  },
  {
   "cell_type": "code",
   "execution_count": 3,
   "id": "0c60d720",
   "metadata": {},
   "outputs": [],
   "source": [
    "age = 18"
   ]
  },
  {
   "cell_type": "code",
   "execution_count": 4,
   "id": "f00b6863",
   "metadata": {},
   "outputs": [
    {
     "name": "stdout",
     "output_type": "stream",
     "text": [
      "18\n"
     ]
    }
   ],
   "source": [
    "print(age)"
   ]
  },
  {
   "cell_type": "code",
   "execution_count": 5,
   "id": "73092cee",
   "metadata": {},
   "outputs": [
    {
     "name": "stdout",
     "output_type": "stream",
     "text": [
      "<class 'int'>\n"
     ]
    }
   ],
   "source": [
    "print(type(age))"
   ]
  },
  {
   "cell_type": "code",
   "execution_count": 6,
   "id": "5b46b015",
   "metadata": {},
   "outputs": [
    {
     "name": "stdout",
     "output_type": "stream",
     "text": [
      "140718842746184\n"
     ]
    }
   ],
   "source": [
    "print(id(age))"
   ]
  },
  {
   "cell_type": "code",
   "execution_count": 7,
   "id": "9b4dfed5",
   "metadata": {},
   "outputs": [
    {
     "name": "stdout",
     "output_type": "stream",
     "text": [
      "18\n",
      "<class 'int'>\n",
      "140718842746184\n"
     ]
    }
   ],
   "source": [
    "print(age)\n",
    "print(type(age))\n",
    "print(id(age))"
   ]
  },
  {
   "cell_type": "code",
   "execution_count": 11,
   "id": "52ace857",
   "metadata": {},
   "outputs": [],
   "source": [
    "name = \"Tabish\""
   ]
  },
  {
   "cell_type": "code",
   "execution_count": 12,
   "id": "23338e08",
   "metadata": {},
   "outputs": [
    {
     "data": {
      "text/plain": [
       "'Tabish'"
      ]
     },
     "execution_count": 12,
     "metadata": {},
     "output_type": "execute_result"
    }
   ],
   "source": [
    "name"
   ]
  },
  {
   "cell_type": "code",
   "execution_count": 15,
   "id": "f741ae0d",
   "metadata": {},
   "outputs": [],
   "source": [
    "first_name = \"Tabish\"\n",
    "last_name = \"Rehman\""
   ]
  },
  {
   "cell_type": "code",
   "execution_count": 16,
   "id": "0f6da32c",
   "metadata": {},
   "outputs": [
    {
     "name": "stdout",
     "output_type": "stream",
     "text": [
      "Tabish\n"
     ]
    }
   ],
   "source": [
    "print(first_name)"
   ]
  },
  {
   "cell_type": "code",
   "execution_count": 25,
   "id": "b5ac9729",
   "metadata": {},
   "outputs": [
    {
     "name": "stdout",
     "output_type": "stream",
     "text": [
      "Rehman\n"
     ]
    }
   ],
   "source": [
    "print(last_name)"
   ]
  },
  {
   "cell_type": "code",
   "execution_count": 26,
   "id": "c5752459",
   "metadata": {},
   "outputs": [
    {
     "ename": "SyntaxError",
     "evalue": "unterminated string literal (detected at line 1) (584074547.py, line 1)",
     "output_type": "error",
     "traceback": [
      "\u001b[1;36m  Cell \u001b[1;32mIn[26], line 1\u001b[1;36m\u001b[0m\n\u001b[1;33m    greetings = \"g\"day\"\u001b[0m\n\u001b[1;37m                      ^\u001b[0m\n\u001b[1;31mSyntaxError\u001b[0m\u001b[1;31m:\u001b[0m unterminated string literal (detected at line 1)\n"
     ]
    }
   ],
   "source": [
    "greetings = \"g\"day\""
   ]
  },
  {
   "cell_type": "code",
   "execution_count": 27,
   "id": "c4047039",
   "metadata": {},
   "outputs": [],
   "source": [
    "greetings_double = \"g\\\"day\""
   ]
  },
  {
   "cell_type": "code",
   "execution_count": 28,
   "id": "738c7994",
   "metadata": {},
   "outputs": [
    {
     "name": "stdout",
     "output_type": "stream",
     "text": [
      "g\"day\n"
     ]
    }
   ],
   "source": [
    "print(greetings_double)"
   ]
  },
  {
   "cell_type": "code",
   "execution_count": 29,
   "id": "d1387643",
   "metadata": {},
   "outputs": [],
   "source": [
    "greetings = 'g\"day'"
   ]
  },
  {
   "cell_type": "code",
   "execution_count": 30,
   "id": "f9d30e47",
   "metadata": {},
   "outputs": [
    {
     "name": "stdout",
     "output_type": "stream",
     "text": [
      "g\"day\n"
     ]
    }
   ],
   "source": [
    "print(greetings)"
   ]
  },
  {
   "cell_type": "code",
   "execution_count": 31,
   "id": "7916a55a",
   "metadata": {},
   "outputs": [
    {
     "data": {
      "text/plain": [
       "3.0"
      ]
     },
     "execution_count": 31,
     "metadata": {},
     "output_type": "execute_result"
    }
   ],
   "source": [
    "6/2"
   ]
  },
  {
   "cell_type": "code",
   "execution_count": 32,
   "id": "f2e62bdf",
   "metadata": {},
   "outputs": [
    {
     "data": {
      "text/plain": [
       "3.25"
      ]
     },
     "execution_count": 32,
     "metadata": {},
     "output_type": "execute_result"
    }
   ],
   "source": [
    "6.5/2"
   ]
  },
  {
   "cell_type": "code",
   "execution_count": 33,
   "id": "dd5f7a16",
   "metadata": {},
   "outputs": [
    {
     "data": {
      "text/plain": [
       "3.0"
      ]
     },
     "execution_count": 33,
     "metadata": {},
     "output_type": "execute_result"
    }
   ],
   "source": [
    "6.5//2"
   ]
  },
  {
   "cell_type": "code",
   "execution_count": 35,
   "id": "a86fa49b",
   "metadata": {},
   "outputs": [
    {
     "data": {
      "text/plain": [
       "3.75"
      ]
     },
     "execution_count": 35,
     "metadata": {},
     "output_type": "execute_result"
    }
   ],
   "source": [
    "7.5/2"
   ]
  },
  {
   "cell_type": "code",
   "execution_count": 36,
   "id": "38ba7fb3",
   "metadata": {},
   "outputs": [
    {
     "data": {
      "text/plain": [
       "3.0"
      ]
     },
     "execution_count": 36,
     "metadata": {},
     "output_type": "execute_result"
    }
   ],
   "source": [
    "(7.5//2)"
   ]
  },
  {
   "cell_type": "code",
   "execution_count": 37,
   "id": "a6814867",
   "metadata": {},
   "outputs": [],
   "source": [
    "Yes = True"
   ]
  },
  {
   "cell_type": "code",
   "execution_count": 38,
   "id": "698356fa",
   "metadata": {},
   "outputs": [
    {
     "data": {
      "text/plain": [
       "True"
      ]
     },
     "execution_count": 38,
     "metadata": {},
     "output_type": "execute_result"
    }
   ],
   "source": [
    "Yes"
   ]
  },
  {
   "cell_type": "code",
   "execution_count": 39,
   "id": "cb71ab05",
   "metadata": {},
   "outputs": [
    {
     "data": {
      "text/plain": [
       "1"
      ]
     },
     "execution_count": 39,
     "metadata": {},
     "output_type": "execute_result"
    }
   ],
   "source": [
    "10%3"
   ]
  },
  {
   "cell_type": "code",
   "execution_count": 40,
   "id": "03176dbd",
   "metadata": {},
   "outputs": [
    {
     "data": {
      "text/plain": [
       "18"
      ]
     },
     "execution_count": 40,
     "metadata": {},
     "output_type": "execute_result"
    }
   ],
   "source": [
    "age"
   ]
  },
  {
   "cell_type": "code",
   "execution_count": 41,
   "id": "ea7730d8",
   "metadata": {},
   "outputs": [
    {
     "data": {
      "text/plain": [
       "19"
      ]
     },
     "execution_count": 41,
     "metadata": {},
     "output_type": "execute_result"
    }
   ],
   "source": [
    "age+1"
   ]
  },
  {
   "cell_type": "code",
   "execution_count": 42,
   "id": "b741a960",
   "metadata": {},
   "outputs": [],
   "source": [
    "age = age+1"
   ]
  },
  {
   "cell_type": "code",
   "execution_count": 43,
   "id": "1b6f72b5",
   "metadata": {},
   "outputs": [
    {
     "name": "stdout",
     "output_type": "stream",
     "text": [
      "19\n"
     ]
    }
   ],
   "source": [
    "print(age)"
   ]
  },
  {
   "cell_type": "code",
   "execution_count": 44,
   "id": "92d78b09",
   "metadata": {},
   "outputs": [],
   "source": [
    "age +=3"
   ]
  },
  {
   "cell_type": "code",
   "execution_count": 45,
   "id": "e6466a22",
   "metadata": {},
   "outputs": [
    {
     "data": {
      "text/plain": [
       "22"
      ]
     },
     "execution_count": 45,
     "metadata": {},
     "output_type": "execute_result"
    }
   ],
   "source": [
    "age"
   ]
  },
  {
   "cell_type": "code",
   "execution_count": 46,
   "id": "5f442218",
   "metadata": {},
   "outputs": [],
   "source": [
    "age -=3"
   ]
  },
  {
   "cell_type": "code",
   "execution_count": 47,
   "id": "05ccd599",
   "metadata": {},
   "outputs": [
    {
     "data": {
      "text/plain": [
       "19"
      ]
     },
     "execution_count": 47,
     "metadata": {},
     "output_type": "execute_result"
    }
   ],
   "source": [
    "age"
   ]
  },
  {
   "cell_type": "code",
   "execution_count": 48,
   "id": "dcb4d62b",
   "metadata": {},
   "outputs": [
    {
     "data": {
      "text/plain": [
       "5"
      ]
     },
     "execution_count": 48,
     "metadata": {},
     "output_type": "execute_result"
    }
   ],
   "source": [
    "1 +2 +2"
   ]
  },
  {
   "cell_type": "code",
   "execution_count": 49,
   "id": "bab346d1",
   "metadata": {},
   "outputs": [
    {
     "data": {
      "text/plain": [
       "5"
      ]
     },
     "execution_count": 49,
     "metadata": {},
     "output_type": "execute_result"
    }
   ],
   "source": [
    "1+2*2"
   ]
  },
  {
   "cell_type": "code",
   "execution_count": 50,
   "id": "9f56a68b",
   "metadata": {},
   "outputs": [
    {
     "data": {
      "text/plain": [
       "0"
      ]
     },
     "execution_count": 50,
     "metadata": {},
     "output_type": "execute_result"
    }
   ],
   "source": [
    "1+(3-4)"
   ]
  },
  {
   "cell_type": "code",
   "execution_count": 51,
   "id": "b0c932a1",
   "metadata": {},
   "outputs": [
    {
     "data": {
      "text/plain": [
       "34"
      ]
     },
     "execution_count": 51,
     "metadata": {},
     "output_type": "execute_result"
    }
   ],
   "source": [
    "((2*4)*4)+2"
   ]
  },
  {
   "cell_type": "code",
   "execution_count": 52,
   "id": "67a4f9a1",
   "metadata": {},
   "outputs": [
    {
     "data": {
      "text/plain": [
       "48"
      ]
     },
     "execution_count": 52,
     "metadata": {},
     "output_type": "execute_result"
    }
   ],
   "source": [
    "(2*4)*(4+2)"
   ]
  },
  {
   "cell_type": "code",
   "execution_count": 56,
   "id": "5199039a",
   "metadata": {},
   "outputs": [],
   "source": [
    "f_name = \"Tabish\""
   ]
  },
  {
   "cell_type": "code",
   "execution_count": 57,
   "id": "5275e742",
   "metadata": {},
   "outputs": [],
   "source": [
    "l_name = \"Rehman\""
   ]
  },
  {
   "cell_type": "code",
   "execution_count": 58,
   "id": "c677233b",
   "metadata": {},
   "outputs": [],
   "source": [
    "f_name = f_name+\" \"+l_name"
   ]
  },
  {
   "cell_type": "code",
   "execution_count": 59,
   "id": "eba17b5c",
   "metadata": {},
   "outputs": [
    {
     "name": "stdout",
     "output_type": "stream",
     "text": [
      "Tabish Rehman\n"
     ]
    }
   ],
   "source": [
    "print(f_name)"
   ]
  },
  {
   "cell_type": "code",
   "execution_count": 63,
   "id": "c33bd1f3",
   "metadata": {},
   "outputs": [
    {
     "name": "stdout",
     "output_type": "stream",
     "text": [
      "Hello, World!\n"
     ]
    }
   ],
   "source": [
    "greetings = \"Hello\"\n",
    "separators = \", \"\n",
    "addressee = \"World\"\n",
    "punc = \"!\"\n",
    "whole_greeting = greetings + separators + addressee + punc\n",
    "print(whole_greeting)"
   ]
  },
  {
   "cell_type": "markdown",
   "id": "4d06972d",
   "metadata": {},
   "source": [
    "### Method 2 "
   ]
  },
  {
   "cell_type": "code",
   "execution_count": 66,
   "id": "fe8fbd26",
   "metadata": {},
   "outputs": [],
   "source": [
    "f_name = \"Tabish\"\n",
    "l_name = \"Rehman\""
   ]
  },
  {
   "cell_type": "code",
   "execution_count": 67,
   "id": "d45f3259",
   "metadata": {},
   "outputs": [
    {
     "data": {
      "text/plain": [
       "'Tabish Rehman'"
      ]
     },
     "execution_count": 67,
     "metadata": {},
     "output_type": "execute_result"
    }
   ],
   "source": [
    "f\"{f_name} {l_name}\""
   ]
  },
  {
   "cell_type": "code",
   "execution_count": 68,
   "id": "d3e9f5cf",
   "metadata": {},
   "outputs": [
    {
     "name": "stdout",
     "output_type": "stream",
     "text": [
      "Tabish Rehman\n"
     ]
    }
   ],
   "source": [
    "print(f\"{f_name} {l_name}\")"
   ]
  },
  {
   "cell_type": "markdown",
   "id": "d1ae2409",
   "metadata": {},
   "source": [
    "# If Statements"
   ]
  },
  {
   "cell_type": "code",
   "execution_count": 75,
   "id": "19a5bdf0",
   "metadata": {},
   "outputs": [],
   "source": [
    "chutti = False"
   ]
  },
  {
   "cell_type": "code",
   "execution_count": 76,
   "id": "0d2aa86b",
   "metadata": {},
   "outputs": [],
   "source": [
    "if chutti:\n",
    "    print(\"Today is OFF - Happy New Year\")"
   ]
  },
  {
   "cell_type": "code",
   "execution_count": 84,
   "id": "1d042b61",
   "metadata": {},
   "outputs": [
    {
     "name": "stdout",
     "output_type": "stream",
     "text": [
      "out of body print\n"
     ]
    }
   ],
   "source": [
    "if chutti:\n",
    "    print(\"Today is OFF - Happy New Year\")\n",
    "print(\"out of body print\")"
   ]
  },
  {
   "cell_type": "code",
   "execution_count": 85,
   "id": "f645b387",
   "metadata": {},
   "outputs": [],
   "source": [
    "chutti = True"
   ]
  },
  {
   "cell_type": "code",
   "execution_count": 86,
   "id": "46c22bec",
   "metadata": {},
   "outputs": [
    {
     "name": "stdout",
     "output_type": "stream",
     "text": [
      "Today is OFF - Happy New Year\n"
     ]
    }
   ],
   "source": [
    "if chutti:\n",
    "    print(\"Today is OFF - Happy New Year\")"
   ]
  },
  {
   "cell_type": "code",
   "execution_count": 88,
   "id": "b06e588c",
   "metadata": {},
   "outputs": [
    {
     "name": "stdout",
     "output_type": "stream",
     "text": [
      "Today is OFF - Happy New Year\n"
     ]
    }
   ],
   "source": [
    "if chutti:\n",
    "    print(\"Today is OFF - Happy New Year\")\n",
    "else:\n",
    "    print(\"Attend the class as per schedule\")"
   ]
  },
  {
   "cell_type": "code",
   "execution_count": 93,
   "id": "d98c5d87",
   "metadata": {},
   "outputs": [],
   "source": [
    "num=3"
   ]
  },
  {
   "cell_type": "code",
   "execution_count": 94,
   "id": "d766d9b3",
   "metadata": {},
   "outputs": [
    {
     "data": {
      "text/plain": [
       "False"
      ]
     },
     "execution_count": 94,
     "metadata": {},
     "output_type": "execute_result"
    }
   ],
   "source": [
    "num%2==0"
   ]
  },
  {
   "cell_type": "code",
   "execution_count": 105,
   "id": "121844fe",
   "metadata": {},
   "outputs": [],
   "source": [
    "num=15"
   ]
  },
  {
   "cell_type": "code",
   "execution_count": 106,
   "id": "a950979f",
   "metadata": {},
   "outputs": [
    {
     "data": {
      "text/plain": [
       "False"
      ]
     },
     "execution_count": 106,
     "metadata": {},
     "output_type": "execute_result"
    }
   ],
   "source": [
    "num%2==0"
   ]
  },
  {
   "cell_type": "code",
   "execution_count": 107,
   "id": "956e8fc9",
   "metadata": {},
   "outputs": [
    {
     "name": "stdout",
     "output_type": "stream",
     "text": [
      "number is odd\n"
     ]
    }
   ],
   "source": [
    "if num%2==0:\n",
    "    print('number is even')\n",
    "else:\n",
    "    print('number is odd')"
   ]
  },
  {
   "cell_type": "code",
   "execution_count": 108,
   "id": "15cbd1b3",
   "metadata": {},
   "outputs": [],
   "source": [
    "country = \"Turkey\"\n",
    "height = 5"
   ]
  },
  {
   "cell_type": "code",
   "execution_count": 109,
   "id": "ee3ac08e",
   "metadata": {},
   "outputs": [
    {
     "name": "stdout",
     "output_type": "stream",
     "text": [
      "Mehmood is Happy for country\n",
      "Its fine for Mehmood\n"
     ]
    }
   ],
   "source": [
    "if country != \"Pakistan\":\n",
    "    print(\"Mehmood is Happy for country\")\n",
    "    if height <5:\n",
    "        print(\"Mehmood is not Happy for height\")\n",
    "    else:\n",
    "        print(\"Its fine for Mehmood\")\n",
    "else:\n",
    "    print(\"Mehmood is Sad\")"
   ]
  },
  {
   "cell_type": "code",
   "execution_count": 115,
   "id": "acfaa4cd",
   "metadata": {},
   "outputs": [
    {
     "name": "stdout",
     "output_type": "stream",
     "text": [
      "Enter country of lady: India\n",
      "Enter height of lady: 6\n",
      "Mehmood is happy for country\n",
      "Its fine for Mehmood\n"
     ]
    }
   ],
   "source": [
    "country = input(\"Enter country of lady: \")\n",
    "height = int(input(\"Enter height of lady: \"))\n",
    "\n",
    "if country != \"Pakistan\":\n",
    "    print(\"Mehmood is happy for country\")\n",
    "    if height <5:\n",
    "        print(\"Mehmood is not happy for height\")\n",
    "    else:\n",
    "        print(\"Its fine for Mehmood\")\n",
    "else:\n",
    "    print(\"Mehmood is sad\")"
   ]
  },
  {
   "cell_type": "code",
   "execution_count": 118,
   "id": "bca1d84c",
   "metadata": {},
   "outputs": [
    {
     "name": "stdout",
     "output_type": "stream",
     "text": [
      "yep, it's cat.\n"
     ]
    }
   ],
   "source": [
    "species = \"cat\"\n",
    "if species == \"cat\":\n",
    "    print(\"yep, it's cat.\")"
   ]
  },
  {
   "cell_type": "code",
   "execution_count": 119,
   "id": "58c836b1",
   "metadata": {},
   "outputs": [],
   "source": [
    "species = 3\n",
    "if species == \"cat\":\n",
    "    print(\"yep, it's cat.\")"
   ]
  },
  {
   "cell_type": "code",
   "execution_count": 121,
   "id": "f3dc6aa1",
   "metadata": {},
   "outputs": [
    {
     "name": "stdout",
     "output_type": "stream",
     "text": [
      "yep, it's cat.\n",
      "animal\n"
     ]
    }
   ],
   "source": [
    "species = \"cat\"\n",
    "if species == \"cat\":\n",
    "    status = \"ok\"\n",
    "    kingdom = \"animal\"\n",
    "    print(\"yep, it's cat.\")\n",
    "    print(kingdom)\n"
   ]
  },
  {
   "cell_type": "code",
   "execution_count": 122,
   "id": "3f23b8a1",
   "metadata": {},
   "outputs": [
    {
     "name": "stdout",
     "output_type": "stream",
     "text": [
      "Everything makes sense.\n"
     ]
    }
   ],
   "source": [
    "if 2+2 == 4:\n",
    "    print(\"Everything makes sense.\")"
   ]
  },
  {
   "cell_type": "code",
   "execution_count": 125,
   "id": "e9a00b5b",
   "metadata": {},
   "outputs": [
    {
     "data": {
      "text/plain": [
       "False"
      ]
     },
     "execution_count": 125,
     "metadata": {},
     "output_type": "execute_result"
    }
   ],
   "source": [
    "2+2==5 # \"==\" equality operator"
   ]
  },
  {
   "cell_type": "code",
   "execution_count": 124,
   "id": "c2bfd84f",
   "metadata": {},
   "outputs": [
    {
     "data": {
      "text/plain": [
       "True"
      ]
     },
     "execution_count": 124,
     "metadata": {},
     "output_type": "execute_result"
    }
   ],
   "source": [
    "2+2==4"
   ]
  },
  {
   "cell_type": "code",
   "execution_count": 126,
   "id": "f0f207f5",
   "metadata": {},
   "outputs": [
    {
     "data": {
      "text/plain": [
       "True"
      ]
     },
     "execution_count": 126,
     "metadata": {},
     "output_type": "execute_result"
    }
   ],
   "source": [
    "\"cat\" == \"cat\" # \"==\" equality operator"
   ]
  },
  {
   "cell_type": "code",
   "execution_count": 127,
   "id": "682934e5",
   "metadata": {},
   "outputs": [
    {
     "data": {
      "text/plain": [
       "False"
      ]
     },
     "execution_count": 127,
     "metadata": {},
     "output_type": "execute_result"
    }
   ],
   "source": [
    "\"dog\" == \"cat\""
   ]
  },
  {
   "cell_type": "code",
   "execution_count": 128,
   "id": "acd70d7a",
   "metadata": {},
   "outputs": [
    {
     "data": {
      "text/plain": [
       "False"
      ]
     },
     "execution_count": 128,
     "metadata": {},
     "output_type": "execute_result"
    }
   ],
   "source": [
    "\"CAT\" == \"cat\""
   ]
  },
  {
   "cell_type": "code",
   "execution_count": 129,
   "id": "4d5e358f",
   "metadata": {},
   "outputs": [
    {
     "data": {
      "text/plain": [
       "True"
      ]
     },
     "execution_count": 129,
     "metadata": {},
     "output_type": "execute_result"
    }
   ],
   "source": [
    "\"cat\" == \"cat\""
   ]
  },
  {
   "cell_type": "code",
   "execution_count": 130,
   "id": "bcc6b884",
   "metadata": {},
   "outputs": [
    {
     "data": {
      "text/plain": [
       "False"
      ]
     },
     "execution_count": 130,
     "metadata": {},
     "output_type": "execute_result"
    }
   ],
   "source": [
    "\"Cat\" == \"cat\""
   ]
  },
  {
   "cell_type": "code",
   "execution_count": 131,
   "id": "f0385bd0",
   "metadata": {},
   "outputs": [
    {
     "data": {
      "text/plain": [
       "False"
      ]
     },
     "execution_count": 131,
     "metadata": {},
     "output_type": "execute_result"
    }
   ],
   "source": [
    "2+2!=4"
   ]
  },
  {
   "cell_type": "code",
   "execution_count": 132,
   "id": "d0fda1fd",
   "metadata": {},
   "outputs": [
    {
     "data": {
      "text/plain": [
       "True"
      ]
     },
     "execution_count": 132,
     "metadata": {},
     "output_type": "execute_result"
    }
   ],
   "source": [
    "3<6"
   ]
  },
  {
   "cell_type": "code",
   "execution_count": 133,
   "id": "0d0d47d2",
   "metadata": {},
   "outputs": [
    {
     "data": {
      "text/plain": [
       "False"
      ]
     },
     "execution_count": 133,
     "metadata": {},
     "output_type": "execute_result"
    }
   ],
   "source": [
    "3>6"
   ]
  },
  {
   "cell_type": "code",
   "execution_count": 134,
   "id": "7a782451",
   "metadata": {},
   "outputs": [
    {
     "data": {
      "text/plain": [
       "False"
      ]
     },
     "execution_count": 134,
     "metadata": {},
     "output_type": "execute_result"
    }
   ],
   "source": [
    "3 <= 2"
   ]
  },
  {
   "cell_type": "code",
   "execution_count": 136,
   "id": "cd2d4dcc",
   "metadata": {},
   "outputs": [
    {
     "name": "stdout",
     "output_type": "stream",
     "text": [
      "Nope, not cat.\n"
     ]
    }
   ],
   "source": [
    "species = \"dog\"\n",
    "\n",
    "if species == \"cat\":\n",
    "    print(\"yep, it's cat.\")\n",
    "else:\n",
    "    print(\"Nope, not cat.\")"
   ]
  },
  {
   "cell_type": "code",
   "execution_count": 137,
   "id": "5d90cdd3",
   "metadata": {},
   "outputs": [],
   "source": [
    "buy_score = 0\n",
    "\n",
    "fruit_condition = \"not fresh\"\n",
    "fruit_price = \"low\""
   ]
  },
  {
   "cell_type": "code",
   "execution_count": 138,
   "id": "dfd65d98",
   "metadata": {},
   "outputs": [],
   "source": [
    "if fruit_condition == \"fresh\":\n",
    "    buy_score +=10\n",
    "elif fruit_price == \"low\":\n",
    "    buy_score +=5\n",
    "else:\n",
    "    buy_score = 0"
   ]
  },
  {
   "cell_type": "code",
   "execution_count": 140,
   "id": "915c087d",
   "metadata": {},
   "outputs": [
    {
     "data": {
      "text/plain": [
       "5"
      ]
     },
     "execution_count": 140,
     "metadata": {},
     "output_type": "execute_result"
    }
   ],
   "source": [
    "buy_score"
   ]
  },
  {
   "cell_type": "code",
   "execution_count": 141,
   "id": "4cb69569",
   "metadata": {},
   "outputs": [],
   "source": [
    "buy_score = 0\n",
    "\n",
    "fruit_condition = \"fresh\"\n",
    "fruit_price = \"high\""
   ]
  },
  {
   "cell_type": "code",
   "execution_count": 142,
   "id": "1236eebd",
   "metadata": {},
   "outputs": [],
   "source": [
    "if fruit_condition == \"fresh\":\n",
    "    buy_score +=10\n",
    "elif fruit_price == \"low\":\n",
    "    buy_score +=5\n",
    "else:\n",
    "    buy_score = 0"
   ]
  },
  {
   "cell_type": "code",
   "execution_count": 143,
   "id": "c063cde3",
   "metadata": {},
   "outputs": [
    {
     "data": {
      "text/plain": [
       "10"
      ]
     },
     "execution_count": 143,
     "metadata": {},
     "output_type": "execute_result"
    }
   ],
   "source": [
    "buy_score"
   ]
  },
  {
   "cell_type": "code",
   "execution_count": 144,
   "id": "076b38be",
   "metadata": {},
   "outputs": [],
   "source": [
    "buy_score = 0\n",
    "\n",
    "fruit_condition = \"not fresh\"\n",
    "fruit_price = \"high\""
   ]
  },
  {
   "cell_type": "code",
   "execution_count": 145,
   "id": "d37abdea",
   "metadata": {},
   "outputs": [],
   "source": [
    "if fruit_condition == \"fresh\":\n",
    "    buy_score +=10\n",
    "elif fruit_price == \"low\":\n",
    "    buy_score +=5\n",
    "else:\n",
    "    buy_score = 0"
   ]
  },
  {
   "cell_type": "code",
   "execution_count": 146,
   "id": "1803dffc",
   "metadata": {},
   "outputs": [
    {
     "data": {
      "text/plain": [
       "0"
      ]
     },
     "execution_count": 146,
     "metadata": {},
     "output_type": "execute_result"
    }
   ],
   "source": [
    "buy_score"
   ]
  },
  {
   "cell_type": "code",
   "execution_count": null,
   "id": "568f96f6",
   "metadata": {},
   "outputs": [],
   "source": []
  }
 ],
 "metadata": {
  "kernelspec": {
   "display_name": "Python 3 (ipykernel)",
   "language": "python",
   "name": "python3"
  },
  "language_info": {
   "codemirror_mode": {
    "name": "ipython",
    "version": 3
   },
   "file_extension": ".py",
   "mimetype": "text/x-python",
   "name": "python",
   "nbconvert_exporter": "python",
   "pygments_lexer": "ipython3",
   "version": "3.11.5"
  }
 },
 "nbformat": 4,
 "nbformat_minor": 5
}
